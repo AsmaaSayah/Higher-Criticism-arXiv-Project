{
 "cells": [
  {
   "cell_type": "code",
   "execution_count": 1,
   "metadata": {},
   "outputs": [
    {
     "name": "stderr",
     "output_type": "stream",
     "text": [
      "[nltk_data] Downloading package punkt to /home/codespace/nltk_data...\n",
      "[nltk_data]   Package punkt is already up-to-date!\n",
      "[nltk_data] Downloading package wordnet to\n",
      "[nltk_data]     /home/codespace/nltk_data...\n",
      "[nltk_data]   Package wordnet is already up-to-date!\n",
      "[nltk_data] Downloading package stopwords to\n",
      "[nltk_data]     /home/codespace/nltk_data...\n",
      "[nltk_data]   Package stopwords is already up-to-date!\n"
     ]
    }
   ],
   "source": [
    "import os\n",
    "import json\n",
    "from src.arxiv_data import fetch_all_years  # Your data acquisition functions\n",
    "from src.text_processing import advanced_text_processing  # Your advanced text processing function\n",
    "\n",
    "# Ensure the \"data\" directory exists\n",
    "os.makedirs(\"data\", exist_ok=True)\n",
    "\n",
    "def create_dataset_1():\n",
    "    \"\"\"\n",
    "    Dataset 1: Fetch arXiv metadata for a given range without downloading PDFs.\n",
    "    Adjust start_year, end_year, and month as needed.\n",
    "    \"\"\"\n",
    "    # Fetch data for 1991 to 2025, March of each year\n",
    "    data = fetch_all_years(start_year=1991, end_year=2025, month=3, download_pdf=False)\n",
    "    filepath = os.path.join(\"data\", \"arxiv_march_data.json\")\n",
    "    with open(filepath, \"w\", encoding=\"utf-8\") as f:\n",
    "        json.dump(data, f, indent=2)\n",
    "    print(f\"Dataset 1 saved as {filepath}\")\n",
    "    return data\n",
    "\n",
    "def create_dataset_2():\n",
    "    \"\"\"\n",
    "    Dataset 2: Fetch arXiv metadata for a given range with PDFs downloaded.\n",
    "    \"\"\"\n",
    "    data = fetch_all_years(start_year=1991, end_year=2025, month=3, download_pdf=True)\n",
    "    filepath = os.path.join(\"data\", \"arxiv_march_data_with_pdf.json\")\n",
    "    with open(filepath, \"w\", encoding=\"utf-8\") as f:\n",
    "        json.dump(data, f, indent=2)\n",
    "    print(f\"Dataset 2 saved as {filepath}\")\n",
    "    return data\n",
    "\n",
    "def create_dataset_3():\n",
    "    \"\"\"\n",
    "    Dataset 3: Load Dataset 1, process each paper's summary using advanced_text_processing,\n",
    "    and save the processed result.\n",
    "    \"\"\"\n",
    "    filepath_in = os.path.join(\"data\", \"arxiv_march_data.json\")\n",
    "    with open(filepath_in, \"r\", encoding=\"utf-8\") as f:\n",
    "        data = json.load(f)\n",
    "    \n",
    "    for year, papers in data.items():\n",
    "        for paper in papers:\n",
    "            summary_text = paper.get(\"summary\", \"\")\n",
    "            processed_tokens = advanced_text_processing(summary_text)\n",
    "            paper[\"processed_summary\"] = processed_tokens\n",
    "    \n",
    "    filepath_out = os.path.join(\"data\", \"arxiv_march_data_with_processed_summary.json\")\n",
    "    with open(filepath_out, \"w\", encoding=\"utf-8\") as f:\n",
    "        json.dump(data, f, indent=2)\n",
    "    print(f\"Dataset 3 saved as {filepath_out}\")\n",
    "    return data\n",
    "\n"
   ]
  },
  {
   "cell_type": "code",
   "execution_count": null,
   "metadata": {},
   "outputs": [],
   "source": [
    "dataset1 = create_dataset_1()"
   ]
  },
  {
   "cell_type": "code",
   "execution_count": null,
   "metadata": {},
   "outputs": [],
   "source": [
    "dataset2 = create_dataset_2()"
   ]
  },
  {
   "cell_type": "code",
   "execution_count": null,
   "metadata": {},
   "outputs": [],
   "source": [
    "dataset3 = create_dataset_3()"
   ]
  },
  {
   "cell_type": "code",
   "execution_count": null,
   "metadata": {},
   "outputs": [],
   "source": [
    "# Ensure the \"data\" directory exists\n",
    "os.makedirs(\"data\", exist_ok=True)\n",
    "\n",
    "def create_dataset_4_incremental(input_filename=\"data/arxiv_march_data_with_pdf.json\",\n",
    "                                 output_filename=\"data/arxiv_march_data_with_processed_summary_and_pdf.json\"):\n",
    "    \"\"\"\n",
    "    Processes Dataset 2 incrementally, year by year.\n",
    "    For each paper, it processes the summary and PDF content (if available) using advanced_text_processing.\n",
    "    It writes the processed data out after processing each year, reducing memory usage.\n",
    "    \"\"\"\n",
    "    # Open the input file and load the top-level dictionary (one key per year)\n",
    "    with open(input_filename, \"r\", encoding=\"utf-8\") as f_in:\n",
    "        data = json.load(f_in)\n",
    "    \n",
    "    output_data = {}  # to store processed data year-by-year\n",
    "    \n",
    "    for year, papers in data.items():\n",
    "        processed_papers = []\n",
    "        for paper in papers:\n",
    "            # Process summary field\n",
    "            summary_text = paper.get(\"summary\", \"\")\n",
    "            processed_summary = advanced_text_processing(summary_text)\n",
    "            paper[\"processed_summary\"] = processed_summary\n",
    "            \n",
    "            # Process PDF content if available\n",
    "            pdf_text = paper.get(\"pdf_content\", \"\")\n",
    "            if pdf_text:\n",
    "                processed_pdf = advanced_text_processing(pdf_text)\n",
    "                paper[\"processed_pdf\"] = processed_pdf\n",
    "            \n",
    "            processed_papers.append(paper)\n",
    "        \n",
    "        # Save the processed papers for this year into our output_data\n",
    "        output_data[year] = processed_papers\n",
    "        \n",
    "        # Write out the results incrementally after processing each year\n",
    "        with open(output_filename, \"w\", encoding=\"utf-8\") as f_out:\n",
    "            json.dump(output_data, f_out, indent=2)\n",
    "        print(f\"Processed and saved year {year}.\")\n",
    "    \n",
    "    print(f\"Dataset 4 saved as {output_filename}\")\n",
    "    return output_data\n"
   ]
  },
  {
   "cell_type": "code",
   "execution_count": null,
   "metadata": {},
   "outputs": [],
   "source": [
    "create_dataset_4_incremental()"
   ]
  },
  {
   "cell_type": "code",
   "execution_count": null,
   "metadata": {},
   "outputs": [],
   "source": []
  }
 ],
 "metadata": {
  "kernelspec": {
   "display_name": ".venv",
   "language": "python",
   "name": "python3"
  },
  "language_info": {
   "codemirror_mode": {
    "name": "ipython",
    "version": 3
   },
   "file_extension": ".py",
   "mimetype": "text/x-python",
   "name": "python",
   "nbconvert_exporter": "python",
   "pygments_lexer": "ipython3",
   "version": "3.12.1"
  }
 },
 "nbformat": 4,
 "nbformat_minor": 2
}
